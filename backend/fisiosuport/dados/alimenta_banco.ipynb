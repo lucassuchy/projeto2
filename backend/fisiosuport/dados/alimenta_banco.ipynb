{
 "cells": [
  {
   "cell_type": "code",
   "execution_count": 32,
   "metadata": {},
   "outputs": [],
   "source": [
    "import requests\n",
    "import json\n",
    "import random\n",
    "import csv\n",
    "\n",
    "\n",
    "def alimenta(user_id):\n",
    "    url = \"http://localhost:8000/patient/\"\n",
    "\n",
    "    payload = json.dumps({\n",
    "        \"quantity\": str(random.randint(1, 5)),\n",
    "        \"duration\": str(random.randint(1, 3)),\n",
    "        \"user_id\": user_id,\n",
    "        \"treatment_id\": random.randint(1, 7),\n",
    "        \"physiotherapist_id\": random.choice(fisioterapeutas)\n",
    "    })\n",
    "    headers = {\n",
    "        'Content-Type': 'application/json',\n",
    "        'Accept': 'application/json'\n",
    "    }\n",
    "\n",
    "    response = requests.request(\"POST\", url, headers=headers, data=payload)\n",
    "\n",
    "    print(response.text)\n"
   ]
  },
  {
   "cell_type": "code",
   "execution_count": 17,
   "metadata": {},
   "outputs": [
    {
     "data": {
      "text/plain": [
       "'35'"
      ]
     },
     "execution_count": 17,
     "metadata": {},
     "output_type": "execute_result"
    }
   ],
   "source": [
    "random.choice(fisioterapeutas)"
   ]
  },
  {
   "cell_type": "code",
   "execution_count": 18,
   "metadata": {},
   "outputs": [],
   "source": [
    "fisioterapeutas = ['2'\n",
    ",'3'\n",
    ",'4'\n",
    ",'6'\n",
    ",'7'\n",
    ",'13'\n",
    ",'14'\n",
    ",'16'\n",
    ",'17'\n",
    ",'20'\n",
    ",'25'\n",
    ",'26'\n",
    ",'35'\n",
    ",'36'\n",
    ",'37'\n",
    ",'38']"
   ]
  },
  {
   "cell_type": "code",
   "execution_count": 37,
   "metadata": {},
   "outputs": [
    {
     "name": "stdout",
     "output_type": "stream",
     "text": [
      "{\"quantity\":2,\"duration\":1,\"user_id\":10,\"treatment_id\":2,\"physiotherapist_id\":4,\"id\":27}\n",
      "{\"detail\":\"Paciente já cadastrado\"}\n",
      "{\"detail\":\"Paciente já cadastrado\"}\n",
      "{\"quantity\":1,\"duration\":1,\"user_id\":15,\"treatment_id\":4,\"physiotherapist_id\":2,\"id\":28}\n",
      "{\"detail\":\"Paciente já cadastrado\"}\n",
      "{\"quantity\":3,\"duration\":3,\"user_id\":19,\"treatment_id\":6,\"physiotherapist_id\":38,\"id\":29}\n",
      "{\"quantity\":5,\"duration\":2,\"user_id\":21,\"treatment_id\":7,\"physiotherapist_id\":16,\"id\":30}\n",
      "{\"detail\":\"Paciente já cadastrado\"}\n",
      "{\"quantity\":3,\"duration\":3,\"user_id\":23,\"treatment_id\":7,\"physiotherapist_id\":6,\"id\":31}\n",
      "{\"detail\":\"Paciente já cadastrado\"}\n",
      "{\"quantity\":1,\"duration\":2,\"user_id\":27,\"treatment_id\":1,\"physiotherapist_id\":7,\"id\":32}\n",
      "{\"detail\":\"Paciente já cadastrado\"}\n",
      "{\"quantity\":4,\"duration\":3,\"user_id\":29,\"treatment_id\":6,\"physiotherapist_id\":26,\"id\":33}\n",
      "{\"detail\":\"Paciente já cadastrado\"}\n",
      "{\"detail\":\"Paciente já cadastrado\"}\n",
      "{\"detail\":\"Paciente já cadastrado\"}\n",
      "{\"detail\":\"Paciente já cadastrado\"}\n",
      "{\"detail\":\"Paciente já cadastrado\"}\n",
      "{\"quantity\":1,\"duration\":2,\"user_id\":39,\"treatment_id\":5,\"physiotherapist_id\":36,\"id\":34}\n",
      "{\"quantity\":4,\"duration\":2,\"user_id\":45,\"treatment_id\":7,\"physiotherapist_id\":7,\"id\":35}\n",
      "{\"quantity\":4,\"duration\":3,\"user_id\":47,\"treatment_id\":5,\"physiotherapist_id\":37,\"id\":36}\n",
      "{\"quantity\":5,\"duration\":3,\"user_id\":48,\"treatment_id\":2,\"physiotherapist_id\":36,\"id\":37}\n",
      "{\"detail\":\"Paciente já cadastrado\"}\n",
      "{\"quantity\":2,\"duration\":1,\"user_id\":52,\"treatment_id\":5,\"physiotherapist_id\":4,\"id\":38}\n",
      "{\"detail\":\"Paciente já cadastrado\"}\n",
      "{\"detail\":\"Paciente já cadastrado\"}\n",
      "{\"quantity\":2,\"duration\":2,\"user_id\":60,\"treatment_id\":5,\"physiotherapist_id\":17,\"id\":39}\n",
      "{\"quantity\":1,\"duration\":3,\"user_id\":61,\"treatment_id\":2,\"physiotherapist_id\":6,\"id\":40}\n",
      "{\"detail\":\"Paciente já cadastrado\"}\n",
      "{\"quantity\":5,\"duration\":1,\"user_id\":65,\"treatment_id\":5,\"physiotherapist_id\":20,\"id\":41}\n",
      "{\"quantity\":1,\"duration\":2,\"user_id\":67,\"treatment_id\":1,\"physiotherapist_id\":2,\"id\":42}\n",
      "{\"quantity\":5,\"duration\":3,\"user_id\":68,\"treatment_id\":2,\"physiotherapist_id\":36,\"id\":43}\n",
      "{\"detail\":\"Paciente já cadastrado\"}\n",
      "{\"detail\":\"Paciente já cadastrado\"}\n",
      "{\"detail\":\"Paciente já cadastrado\"}\n",
      "{\"detail\":\"Paciente já cadastrado\"}\n",
      "{\"quantity\":1,\"duration\":1,\"user_id\":73,\"treatment_id\":7,\"physiotherapist_id\":26,\"id\":44}\n",
      "{\"quantity\":4,\"duration\":2,\"user_id\":74,\"treatment_id\":7,\"physiotherapist_id\":6,\"id\":45}\n",
      "{\"quantity\":3,\"duration\":2,\"user_id\":77,\"treatment_id\":4,\"physiotherapist_id\":3,\"id\":46}\n",
      "{\"quantity\":3,\"duration\":1,\"user_id\":79,\"treatment_id\":2,\"physiotherapist_id\":25,\"id\":47}\n",
      "{\"quantity\":2,\"duration\":2,\"user_id\":40,\"treatment_id\":1,\"physiotherapist_id\":13,\"id\":48}\n",
      "{\"quantity\":2,\"duration\":1,\"user_id\":41,\"treatment_id\":1,\"physiotherapist_id\":25,\"id\":49}\n",
      "{\"quantity\":4,\"duration\":1,\"user_id\":82,\"treatment_id\":1,\"physiotherapist_id\":38,\"id\":50}\n",
      "{\"quantity\":5,\"duration\":1,\"user_id\":83,\"treatment_id\":6,\"physiotherapist_id\":17,\"id\":51}\n",
      "{\"quantity\":5,\"duration\":1,\"user_id\":42,\"treatment_id\":6,\"physiotherapist_id\":36,\"id\":52}\n",
      "{\"detail\":\"Paciente já cadastrado\"}\n",
      "{\"detail\":\"Paciente já cadastrado\"}\n",
      "{\"quantity\":3,\"duration\":1,\"user_id\":92,\"treatment_id\":4,\"physiotherapist_id\":4,\"id\":53}\n",
      "{\"detail\":\"Paciente já cadastrado\"}\n",
      "{\"detail\":\"Paciente já cadastrado\"}\n",
      "{\"detail\":\"Paciente já cadastrado\"}\n",
      "{\"quantity\":2,\"duration\":3,\"user_id\":100,\"treatment_id\":6,\"physiotherapist_id\":16,\"id\":54}\n",
      "{\"detail\":\"Paciente já cadastrado\"}\n",
      "{\"quantity\":3,\"duration\":3,\"user_id\":43,\"treatment_id\":2,\"physiotherapist_id\":2,\"id\":55}\n",
      "{\"quantity\":1,\"duration\":2,\"user_id\":44,\"treatment_id\":6,\"physiotherapist_id\":37,\"id\":56}\n",
      "{\"quantity\":1,\"duration\":3,\"user_id\":46,\"treatment_id\":4,\"physiotherapist_id\":2,\"id\":57}\n",
      "{\"quantity\":1,\"duration\":1,\"user_id\":49,\"treatment_id\":2,\"physiotherapist_id\":17,\"id\":58}\n",
      "{\"quantity\":1,\"duration\":1,\"user_id\":51,\"treatment_id\":2,\"physiotherapist_id\":36,\"id\":59}\n",
      "{\"quantity\":3,\"duration\":3,\"user_id\":53,\"treatment_id\":7,\"physiotherapist_id\":6,\"id\":60}\n",
      "{\"quantity\":1,\"duration\":2,\"user_id\":54,\"treatment_id\":3,\"physiotherapist_id\":14,\"id\":61}\n",
      "{\"quantity\":3,\"duration\":3,\"user_id\":56,\"treatment_id\":7,\"physiotherapist_id\":38,\"id\":62}\n",
      "{\"quantity\":4,\"duration\":2,\"user_id\":57,\"treatment_id\":1,\"physiotherapist_id\":13,\"id\":63}\n",
      "{\"quantity\":5,\"duration\":2,\"user_id\":58,\"treatment_id\":2,\"physiotherapist_id\":37,\"id\":64}\n",
      "{\"quantity\":4,\"duration\":1,\"user_id\":62,\"treatment_id\":2,\"physiotherapist_id\":13,\"id\":65}\n",
      "{\"quantity\":4,\"duration\":3,\"user_id\":63,\"treatment_id\":6,\"physiotherapist_id\":35,\"id\":66}\n",
      "{\"quantity\":3,\"duration\":3,\"user_id\":66,\"treatment_id\":7,\"physiotherapist_id\":37,\"id\":67}\n",
      "{\"quantity\":4,\"duration\":1,\"user_id\":75,\"treatment_id\":4,\"physiotherapist_id\":13,\"id\":68}\n",
      "{\"quantity\":5,\"duration\":3,\"user_id\":76,\"treatment_id\":2,\"physiotherapist_id\":2,\"id\":69}\n",
      "{\"quantity\":2,\"duration\":2,\"user_id\":78,\"treatment_id\":5,\"physiotherapist_id\":35,\"id\":70}\n",
      "{\"quantity\":1,\"duration\":3,\"user_id\":80,\"treatment_id\":2,\"physiotherapist_id\":25,\"id\":71}\n",
      "{\"quantity\":1,\"duration\":3,\"user_id\":81,\"treatment_id\":2,\"physiotherapist_id\":36,\"id\":72}\n",
      "{\"quantity\":1,\"duration\":2,\"user_id\":84,\"treatment_id\":5,\"physiotherapist_id\":17,\"id\":73}\n",
      "{\"quantity\":5,\"duration\":2,\"user_id\":86,\"treatment_id\":2,\"physiotherapist_id\":14,\"id\":74}\n",
      "{\"quantity\":3,\"duration\":1,\"user_id\":87,\"treatment_id\":6,\"physiotherapist_id\":4,\"id\":75}\n",
      "{\"quantity\":2,\"duration\":1,\"user_id\":88,\"treatment_id\":1,\"physiotherapist_id\":38,\"id\":76}\n",
      "{\"quantity\":4,\"duration\":2,\"user_id\":90,\"treatment_id\":3,\"physiotherapist_id\":4,\"id\":77}\n",
      "{\"quantity\":5,\"duration\":3,\"user_id\":91,\"treatment_id\":2,\"physiotherapist_id\":20,\"id\":78}\n",
      "{\"quantity\":2,\"duration\":2,\"user_id\":93,\"treatment_id\":3,\"physiotherapist_id\":16,\"id\":79}\n",
      "{\"quantity\":4,\"duration\":3,\"user_id\":96,\"treatment_id\":2,\"physiotherapist_id\":13,\"id\":80}\n",
      "{\"quantity\":2,\"duration\":2,\"user_id\":97,\"treatment_id\":3,\"physiotherapist_id\":17,\"id\":81}\n",
      "{\"quantity\":2,\"duration\":2,\"user_id\":98,\"treatment_id\":1,\"physiotherapist_id\":25,\"id\":82}\n",
      "{\"quantity\":2,\"duration\":1,\"user_id\":101,\"treatment_id\":6,\"physiotherapist_id\":6,\"id\":83}\n",
      "{\"detail\":\"Paciente já cadastrado\"}\n"
     ]
    }
   ],
   "source": [
    "with open('pacientes_nao_ativos.csv', newline='') as csvfile:\n",
    "    spamreader = csv.reader(csvfile, delimiter=' ', quotechar='|')\n",
    "    for row in spamreader:\n",
    "        alimenta(row[0])"
   ]
  }
 ],
 "metadata": {
  "kernelspec": {
   "display_name": "base",
   "language": "python",
   "name": "python3"
  },
  "language_info": {
   "codemirror_mode": {
    "name": "ipython",
    "version": 3
   },
   "file_extension": ".py",
   "mimetype": "text/x-python",
   "name": "python",
   "nbconvert_exporter": "python",
   "pygments_lexer": "ipython3",
   "version": "3.11.5"
  }
 },
 "nbformat": 4,
 "nbformat_minor": 2
}
