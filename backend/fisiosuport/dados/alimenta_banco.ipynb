{
 "cells": [
  {
   "cell_type": "code",
   "execution_count": 1,
   "metadata": {},
   "outputs": [],
   "source": [
    "import requests\n",
    "import json\n",
    "import random\n",
    "import csv\n",
    "\n",
    "def alimenta(user_id):\n",
    "    url = \"http://localhost:8000/physiotherapist/\"\n",
    "\n",
    "    payload = json.dumps({\n",
    "    \"user_id\": user_id,\n",
    "    \"specialty_id\": random.randint(1, 16)\n",
    "    })\n",
    "    headers = {\n",
    "    'Content-Type': 'application/json',\n",
    "    'Accept': 'application/json'\n",
    "    }\n",
    "\n",
    "    response = requests.request(\"POST\", url, headers=headers, data=payload)\n",
    "\n",
    "    print(response.text)\n"
   ]
  },
  {
   "cell_type": "code",
   "execution_count": 2,
   "metadata": {},
   "outputs": [
    {
     "name": "stdout",
     "output_type": "stream",
     "text": [
      "{\"user_id\":2,\"specialty_id\":14}\n",
      "{\"user_id\":3,\"specialty_id\":5}\n",
      "{\"user_id\":4,\"specialty_id\":10}\n",
      "{\"user_id\":6,\"specialty_id\":12}\n",
      "{\"user_id\":7,\"specialty_id\":3}\n",
      "{\"user_id\":13,\"specialty_id\":13}\n",
      "{\"user_id\":14,\"specialty_id\":10}\n",
      "{\"user_id\":16,\"specialty_id\":13}\n",
      "{\"user_id\":17,\"specialty_id\":16}\n",
      "{\"user_id\":20,\"specialty_id\":13}\n",
      "{\"user_id\":25,\"specialty_id\":11}\n",
      "{\"user_id\":26,\"specialty_id\":7}\n",
      "{\"user_id\":35,\"specialty_id\":11}\n",
      "{\"user_id\":36,\"specialty_id\":11}\n",
      "{\"user_id\":37,\"specialty_id\":3}\n",
      "{\"user_id\":38,\"specialty_id\":4}\n",
      "{\"user_id\":40,\"specialty_id\":2}\n",
      "{\"user_id\":41,\"specialty_id\":13}\n",
      "{\"user_id\":42,\"specialty_id\":16}\n",
      "{\"user_id\":43,\"specialty_id\":6}\n",
      "{\"user_id\":44,\"specialty_id\":8}\n",
      "{\"user_id\":46,\"specialty_id\":4}\n",
      "{\"user_id\":49,\"specialty_id\":15}\n",
      "{\"user_id\":51,\"specialty_id\":3}\n",
      "{\"user_id\":53,\"specialty_id\":7}\n",
      "{\"user_id\":54,\"specialty_id\":10}\n",
      "{\"user_id\":56,\"specialty_id\":5}\n",
      "{\"user_id\":57,\"specialty_id\":11}\n",
      "{\"user_id\":58,\"specialty_id\":3}\n",
      "{\"user_id\":62,\"specialty_id\":7}\n",
      "{\"user_id\":63,\"specialty_id\":6}\n",
      "{\"user_id\":66,\"specialty_id\":3}\n",
      "{\"user_id\":75,\"specialty_id\":4}\n",
      "{\"user_id\":76,\"specialty_id\":8}\n",
      "{\"user_id\":78,\"specialty_id\":8}\n",
      "{\"user_id\":80,\"specialty_id\":12}\n",
      "{\"user_id\":81,\"specialty_id\":9}\n",
      "{\"user_id\":84,\"specialty_id\":9}\n",
      "{\"user_id\":86,\"specialty_id\":15}\n",
      "{\"user_id\":87,\"specialty_id\":3}\n",
      "{\"user_id\":88,\"specialty_id\":15}\n",
      "{\"user_id\":90,\"specialty_id\":12}\n",
      "{\"user_id\":91,\"specialty_id\":9}\n",
      "{\"user_id\":93,\"specialty_id\":7}\n",
      "{\"user_id\":96,\"specialty_id\":15}\n",
      "{\"user_id\":97,\"specialty_id\":3}\n",
      "{\"user_id\":98,\"specialty_id\":12}\n",
      "{\"user_id\":101,\"specialty_id\":9}\n",
      "{\"user_id\":102,\"specialty_id\":7}\n"
     ]
    }
   ],
   "source": [
    "with open('fisioterapeutas.csv', newline='') as csvfile:\n",
    "\n",
    "    spamreader = csv.reader(csvfile, delimiter=' ', quotechar='|')\n",
    "\n",
    "    for row in spamreader:\n",
    "\n",
    "        alimenta(row[0])"
   ]
  }
 ],
 "metadata": {
  "kernelspec": {
   "display_name": "base",
   "language": "python",
   "name": "python3"
  },
  "language_info": {
   "codemirror_mode": {
    "name": "ipython",
    "version": 3
   },
   "file_extension": ".py",
   "mimetype": "text/x-python",
   "name": "python",
   "nbconvert_exporter": "python",
   "pygments_lexer": "ipython3",
   "version": "3.11.5"
  }
 },
 "nbformat": 4,
 "nbformat_minor": 2
}
